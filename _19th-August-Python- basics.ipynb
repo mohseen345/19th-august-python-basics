{
 "cells": [
  {
   "cell_type": "markdown",
   "id": "40ec9ccf-1ab6-4099-9f26-66aab623eac3",
   "metadata": {},
   "source": [
    "Assign variable(answer1)"
   ]
  },
  {
   "cell_type": "code",
   "execution_count": 17,
   "id": "9b26b078-5bf0-4c75-9381-f9b2c893c987",
   "metadata": {},
   "outputs": [],
   "source": [
    "x=5\n",
    "y=7\n",
    "x,y=y,x"
   ]
  },
  {
   "cell_type": "code",
   "execution_count": 18,
   "id": "8f5a7730-cdb2-4890-af16-e128576d9160",
   "metadata": {},
   "outputs": [
    {
     "name": "stdout",
     "output_type": "stream",
     "text": [
      "5\n"
     ]
    }
   ],
   "source": [
    "print(\"value of x:,x,\"and y)"
   ]
  },
  {
   "cell_type": "markdown",
   "id": "61dde16e-81e3-45f4-a4be-98d076782d75",
   "metadata": {},
   "source": [
    "Area of rectangle(answer2)"
   ]
  },
  {
   "cell_type": "code",
   "execution_count": 3,
   "id": "18ba8d80-24ba-471b-91f4-a454ad119498",
   "metadata": {},
   "outputs": [],
   "source": [
    "length=65\n",
    "width=78\n",
    "area=65*78"
   ]
  },
  {
   "cell_type": "code",
   "execution_count": 4,
   "id": "5da38d03-b678-465a-a80c-97581d92b9f7",
   "metadata": {},
   "outputs": [
    {
     "data": {
      "text/plain": [
       "5070"
      ]
     },
     "execution_count": 4,
     "metadata": {},
     "output_type": "execute_result"
    }
   ],
   "source": [
    "area"
   ]
  },
  {
   "cell_type": "code",
   "execution_count": 28,
   "id": "203024ac-eb7d-40a4-ac03-2c05cf8a5954",
   "metadata": {},
   "outputs": [],
   "source": [
    "Celcius=45.5"
   ]
  },
  {
   "cell_type": "code",
   "execution_count": 5,
   "id": "68767afa-fde8-4eea-9e59-c2b8f92a2c7d",
   "metadata": {},
   "outputs": [],
   "source": [
    "Fahrenheit=(45.5*1.8)+32"
   ]
  },
  {
   "cell_type": "code",
   "execution_count": 6,
   "id": "0dbb15f1-c3ea-4930-a91c-2a393d01908f",
   "metadata": {},
   "outputs": [
    {
     "data": {
      "text/plain": [
       "113.9"
      ]
     },
     "execution_count": 6,
     "metadata": {},
     "output_type": "execute_result"
    }
   ],
   "source": [
    "Fahrenheit"
   ]
  },
  {
   "cell_type": "markdown",
   "id": "1046ae42-853f-49e7-90c0-aa3621731ff7",
   "metadata": {},
   "source": [
    "String based answer Answer1"
   ]
  },
  {
   "cell_type": "code",
   "execution_count": 8,
   "id": "6f0a2e18-d159-4270-ab7f-799916ded3e1",
   "metadata": {},
   "outputs": [],
   "source": [
    "s1=\"mohseen\""
   ]
  },
  {
   "cell_type": "code",
   "execution_count": 9,
   "id": "8cc48e02-29f0-49e7-a19f-ea75a253a26a",
   "metadata": {},
   "outputs": [
    {
     "data": {
      "text/plain": [
       "7"
      ]
     },
     "execution_count": 9,
     "metadata": {},
     "output_type": "execute_result"
    }
   ],
   "source": [
    "len(s1)"
   ]
  },
  {
   "cell_type": "code",
   "execution_count": 58,
   "id": "ef47bcab-b209-438c-985d-73682e08498d",
   "metadata": {},
   "outputs": [
    {
     "name": "stdin",
     "output_type": "stream",
     "text": [
      "Enter string: this is easy program\n"
     ]
    },
    {
     "name": "stdout",
     "output_type": "stream",
     "text": [
      "number of vowels are:\n",
      "1\n",
      "number of vowels are:\n",
      "2\n",
      "number of vowels are:\n",
      "3\n",
      "number of vowels are:\n",
      "4\n",
      "number of vowels are:\n",
      "5\n",
      "number of vowels are:\n",
      "6\n",
      "number of vowels are:\n",
      "7\n",
      "number of vowels are:\n",
      "8\n",
      "number of vowels are:\n",
      "9\n",
      "number of vowels are:\n",
      "10\n",
      "number of vowels are:\n",
      "11\n",
      "number of vowels are:\n",
      "12\n",
      "number of vowels are:\n",
      "13\n",
      "number of vowels are:\n",
      "14\n",
      "number of vowels are:\n",
      "15\n",
      "number of vowels are:\n",
      "16\n",
      "number of vowels are:\n",
      "17\n",
      "number of vowels are:\n",
      "18\n",
      "number of vowels are:\n",
      "19\n",
      "number of vowels are:\n",
      "20\n"
     ]
    }
   ],
   "source": [
    "str=input(\"Enter string:\")\n",
    "vowels=0\n",
    "for i in str:\n",
    "    if(i==\"a\",\"e\",\"i\",\"o\",\"u\"):\n",
    "vowels=vowels+1\n",
    "    print(\"number of vowels are:\")\n",
    "    print(vowels)"
   ]
  },
  {
   "cell_type": "markdown",
   "id": "45b27b6e-8571-4e14-b0c3-4cb6377f0485",
   "metadata": {},
   "source": [
    "slicing a string and reverse a string (answer3)\n"
   ]
  },
  {
   "cell_type": "code",
   "execution_count": 10,
   "id": "b2505b3f-b5db-431b-bece-ecbc0406699f",
   "metadata": {},
   "outputs": [],
   "source": [
    "s2='python'"
   ]
  },
  {
   "cell_type": "code",
   "execution_count": 11,
   "id": "fb5d37e5-b1ef-4f00-af39-c205c6520b89",
   "metadata": {},
   "outputs": [
    {
     "data": {
      "text/plain": [
       "'python'"
      ]
     },
     "execution_count": 11,
     "metadata": {},
     "output_type": "execute_result"
    }
   ],
   "source": [
    "s2[0:6]"
   ]
  },
  {
   "cell_type": "code",
   "execution_count": 12,
   "id": "f02761ea-2fcc-461d-a214-1d6c52591662",
   "metadata": {},
   "outputs": [
    {
     "data": {
      "text/plain": [
       "'nohtyp'"
      ]
     },
     "execution_count": 12,
     "metadata": {},
     "output_type": "execute_result"
    }
   ],
   "source": [
    "s2[::-1]"
   ]
  },
  {
   "cell_type": "markdown",
   "id": "4385f2b9-6263-45a3-8e0c-60eba57f893f",
   "metadata": {},
   "source": [
    "check if it is a palindrome or not (answer4)"
   ]
  },
  {
   "cell_type": "code",
   "execution_count": 13,
   "id": "4ac227d0-5554-41de-8000-660a71996db0",
   "metadata": {},
   "outputs": [],
   "source": [
    "s3=\"malayalam\""
   ]
  },
  {
   "cell_type": "code",
   "execution_count": 14,
   "id": "5a13087e-b523-4717-994a-8debd73c28a1",
   "metadata": {},
   "outputs": [
    {
     "name": "stdout",
     "output_type": "stream",
     "text": [
      "malayalam\n"
     ]
    }
   ],
   "source": [
    "print(s3[::-1])"
   ]
  },
  {
   "cell_type": "markdown",
   "id": "6f30e0b9-d666-4f65-a7c4-27fb6272851d",
   "metadata": {},
   "source": [
    "yes it is palindrome"
   ]
  },
  {
   "cell_type": "markdown",
   "id": "b62ecfe4-f155-41b3-bfae-9c51a7188a9f",
   "metadata": {},
   "source": [
    "take a string as input and remove space (Answer5)"
   ]
  },
  {
   "cell_type": "code",
   "execution_count": 15,
   "id": "a21c56e4-42e5-4704-ac7d-afd480eb4ce1",
   "metadata": {},
   "outputs": [],
   "source": [
    "s4=\"pw skills\""
   ]
  },
  {
   "cell_type": "code",
   "execution_count": 16,
   "id": "3eb0bf77-ef47-4dc2-863b-8ec5c4b44efd",
   "metadata": {},
   "outputs": [
    {
     "data": {
      "text/plain": [
       "'pwskills'"
      ]
     },
     "execution_count": 16,
     "metadata": {},
     "output_type": "execute_result"
    }
   ],
   "source": [
    "s4.replace(\" \",\"\")"
   ]
  },
  {
   "cell_type": "code",
   "execution_count": null,
   "id": "a75445fc-2acf-4601-b2ff-3aa5340478ff",
   "metadata": {},
   "outputs": [],
   "source": []
  }
 ],
 "metadata": {
  "kernelspec": {
   "display_name": "Python 3 (ipykernel)",
   "language": "python",
   "name": "python3"
  },
  "language_info": {
   "codemirror_mode": {
    "name": "ipython",
    "version": 3
   },
   "file_extension": ".py",
   "mimetype": "text/x-python",
   "name": "python",
   "nbconvert_exporter": "python",
   "pygments_lexer": "ipython3",
   "version": "3.10.8"
  }
 },
 "nbformat": 4,
 "nbformat_minor": 5
}
